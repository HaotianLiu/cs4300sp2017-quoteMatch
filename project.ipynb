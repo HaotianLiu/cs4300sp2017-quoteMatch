{
 "cells": [
  {
   "cell_type": "code",
   "execution_count": 1,
   "metadata": {
    "collapsed": true
   },
   "outputs": [],
   "source": [
    "import sys\n",
    "sys.path.append(\"C:/Anaconda3/envs/cs4300/Lib/site-packages\")\n",
    "import csv\n",
    "from collections import defaultdict\n",
    "from collections import Counter\n",
    "from matplotlib import pyplot as plt\n",
    "%matplotlib inline\n",
    "import json\n",
    "import math"
   ]
  },
  {
   "cell_type": "code",
   "execution_count": 135,
   "metadata": {
    "collapsed": false
   },
   "outputs": [],
   "source": [
    "from empath import Empath\n",
    "import numpy as np\n",
    "from scipy.stats import entropy\n",
    "import string\n",
    "from nltk import word_tokenize          \n",
    "from nltk.stem import WordNetLemmatizer as wnl\n",
    "from nltk.tokenize import RegexpTokenizer\n",
    "from stemming.porter2 import stem\n",
    "from sklearn.feature_extraction.text import TfidfVectorizer,CountVectorizer\n",
    "import re\n",
    "with open('contractions.json','r') as con:\n",
    "    contractions_dict=json.load(con)\n",
    "with open('fake_quotes.json') as data_file:    \n",
    "    fake_quotes = json.load(data_file)"
   ]
  },
  {
   "cell_type": "code",
   "execution_count": 146,
   "metadata": {
    "collapsed": true
   },
   "outputs": [],
   "source": [
    "#Construct a Tokenizer that deals with contractions \n",
    "regtokenizer =RegexpTokenizer(\"[a-z]+\\'?\")\n",
    "contractions_re = re.compile('(%s)' % '|'.join(contractions_dict.keys()))\n",
    "lexicon = Empath()\n",
    "def expand_contractions(s, contractions_dict=contractions_dict):\n",
    "    def replace(match):\n",
    "        return contractions_dict[match.group(0)]\n",
    "    return contractions_re.sub(replace, s)\n",
    "\n",
    "class LemmaTokenizer(object):\n",
    "    def __init__(self):\n",
    "            self.wnl = stem\n",
    "    def __call__(self, doc,stemming=True):\n",
    "        #stemming is a boolean value indicating if the results need to be stemmed\n",
    "        if stemming==True:\n",
    "            return [stem(t) for t in regtokenizer.tokenize(expand_contractions(doc.lower()))]\n",
    "        else:\n",
    "            return [t for t in regtokenizer.tokenize(expand_contractions(doc.lower()))]"
   ]
  },
  {
   "cell_type": "code",
   "execution_count": 85,
   "metadata": {
    "collapsed": false
   },
   "outputs": [],
   "source": [
    "#Construct Index \n",
    "author_to_ID=defaultdict(list)\n",
    "ID_to_author=defaultdict(str)\n",
    "ID_to_quote=defaultdict(str)\n",
    "with open('quotes.csv','rb') as f:\n",
    "    reader=csv.reader(f)\n",
    "    for row in reader:\n",
    "        ID_to_quote[int(row[0])]=row[2]\n",
    "        ID_to_author[int(row[0])]=row[1]\n",
    "        author_to_ID[(row[1])].append(row[0])"
   ]
  },
  {
   "cell_type": "code",
   "execution_count": 89,
   "metadata": {
    "collapsed": false,
    "scrolled": true
   },
   "outputs": [
    {
     "data": {
      "text/plain": [
       "[<matplotlib.lines.Line2D at 0x108be940>]"
      ]
     },
     "execution_count": 89,
     "metadata": {},
     "output_type": "execute_result"
    },
    {
     "data": {
      "image/png": "[encoded data removed]",
      "text/plain": [
       "<matplotlib.figure.Figure at 0xf45dda0>"
      ]
     },
     "metadata": {},
     "output_type": "display_data"
    }
   ],
   "source": [
    "#hmm..power law\n",
    "plt.loglog(Counter([len(item) for item in author_to_ID.values()]).values())"
   ]
  },
  {
   "cell_type": "markdown",
   "metadata": {},
   "source": [
    "# Base-line Information Retrieval: Cosine Similarity"
   ]
  },
  {
   "cell_type": "code",
   "execution_count": 90,
   "metadata": {
    "collapsed": false
   },
   "outputs": [],
   "source": [
    "n_feats=5000;#Assuming the word usages are not more diverse than the movie scripts\n",
    "tfidf_vec = TfidfVectorizer('content',tokenizer=LemmaTokenizer(),min_df=5,max_df=0.8,max_features=n_feats,norm=None )\n",
    "doc_by_vocab=tfidf_vec.fit_transform([quote for quote in ID_to_quote.values()])"
   ]
  },
  {
   "cell_type": "code",
   "execution_count": 91,
   "metadata": {
    "collapsed": true
   },
   "outputs": [],
   "source": [
    "# Construct a inverted map from feature index to feature value (word) for later use\n",
    "index_to_vocab = {i:v for i, v in enumerate(tfidf_vec.get_feature_names())}\n",
    "vocab_to_index={v:i for i,v in enumerate(tfidf_vec.get_feature_names())}"
   ]
  },
  {
   "cell_type": "code",
   "execution_count": 92,
   "metadata": {
    "collapsed": false,
    "scrolled": true
   },
   "outputs": [
    {
     "data": {
      "text/plain": [
       "21814"
      ]
     },
     "execution_count": 92,
     "metadata": {},
     "output_type": "execute_result"
    }
   ],
   "source": [
    "np.size(doc_by_vocab,0)"
   ]
  },
  {
   "cell_type": "code",
   "execution_count": 93,
   "metadata": {
    "collapsed": false,
    "scrolled": true
   },
   "outputs": [
    {
     "data": {
      "text/plain": [
       "5000"
      ]
     },
     "execution_count": 93,
     "metadata": {},
     "output_type": "execute_result"
    }
   ],
   "source": [
    "len(tfidf_vec.get_feature_names())"
   ]
  },
  {
   "cell_type": "code",
   "execution_count": 94,
   "metadata": {
    "collapsed": true
   },
   "outputs": [],
   "source": [
    "doc_by_vocab = doc_by_vocab.toarray()"
   ]
  },
  {
   "cell_type": "code",
   "execution_count": 95,
   "metadata": {
    "collapsed": false
   },
   "outputs": [],
   "source": [
    "valid_type=tfidf_vec.get_feature_names()"
   ]
  },
  {
   "cell_type": "code",
   "execution_count": 96,
   "metadata": {
    "collapsed": false
   },
   "outputs": [],
   "source": [
    "def build_inverted_index(msgs):\n",
    "    index= defaultdict(list)\n",
    "    for i, msg in enumerate(msgs):\n",
    "        all_toks=list(set(regtokenizer.tokenize(expand_contractions(msg))))\n",
    "        for tok in all_toks:\n",
    "            try:\n",
    "                j=vocab_to_index[tok]\n",
    "                index[tok].append((i+1,doc_by_vocab[i,j]))\n",
    "            except KeyError:\n",
    "                continue\n",
    "            except IndexError:\n",
    "                print(j)\n",
    "    return index\n",
    "pass"
   ]
  },
  {
   "cell_type": "code",
   "execution_count": 97,
   "metadata": {
    "collapsed": false,
    "scrolled": false
   },
   "outputs": [],
   "source": [
    "inD=build_inverted_index(ID_to_quote.values())"
   ]
  },
  {
   "cell_type": "code",
   "execution_count": 98,
   "metadata": {
    "collapsed": true
   },
   "outputs": [],
   "source": [
    "\n",
    "def compute_idf(inv_idx, n_docs):\n",
    "    idf={}\n",
    "    all_words=inv_idx.keys()\n",
    "    for word in all_words:\n",
    "        idf[word]=math.log(n_docs*1.0/(1+len(inv_idx[word])))\n",
    "    return idf\n",
    "    pass"
   ]
  },
  {
   "cell_type": "code",
   "execution_count": 99,
   "metadata": {
    "collapsed": false
   },
   "outputs": [],
   "source": [
    "idf=compute_idf(inD,len(ID_to_quote.values()))"
   ]
  },
  {
   "cell_type": "code",
   "execution_count": 100,
   "metadata": {
    "collapsed": false
   },
   "outputs": [],
   "source": [
    "def compute_doc_norms(index,n_docs):\n",
    "    norms=np.zeros(n_docs)\n",
    "    all_words=index.keys()\n",
    "    for word in all_words:\n",
    "        doc_idx=index[word]\n",
    "        for docID,tfidf in doc_idx:\n",
    "            norms[docID-1]=norms[docID-1]+(tfidf)**2\n",
    "    norms=np.sqrt(norms)\n",
    "    return norms\n",
    "    pass"
   ]
  },
  {
   "cell_type": "code",
   "execution_count": 101,
   "metadata": {
    "collapsed": false
   },
   "outputs": [],
   "source": [
    "docnorms= compute_doc_norms(inD,len(ID_to_quote.values()))"
   ]
  },
  {
   "cell_type": "code",
   "execution_count": 102,
   "metadata": {
    "collapsed": true
   },
   "outputs": [],
   "source": [
    "#Build the base system of the information retrieval using cosine similarity\n",
    "def baseIR(query):\n",
    "    query=query.lower()\n",
    "    query_modified=[stem(t) for t in regtokenizer.tokenize(expand_contractions(query)) if stem(t) in inD.keys()]\n",
    "    qCounter=Counter(query_modified)\n",
    "    score=defaultdict(float)\n",
    "    qtfidf=[]\n",
    "    for w in query_modified:\n",
    "        qtfidf.append(qCounter[w]*idf[w])\n",
    "    qnorm=np.sqrt(sum(np.array(qtfidf)**2))\n",
    "    results= []\n",
    "    for qword in qCounter.keys():\n",
    "        all_docs= inD[qword]\n",
    "        for docID,tfidf in all_docs:\n",
    "            score[docID-1]+=tfidf*qCounter[qword]*idf[qword]/(1.0*(docnorms[docID-1]*qnorm))\n",
    "    for dID in ID_to_quote.keys():\n",
    "        results.append((score[dID-1],ID_to_quote[dID],dID-1)) \n",
    "    results.sort(key=lambda x: x[0],reverse=True)\n",
    "    return query_modified,results"
   ]
  },
  {
   "cell_type": "code",
   "execution_count": 243,
   "metadata": {
    "collapsed": false
   },
   "outputs": [],
   "source": [
    "query,results= baseIR('It has been a tough day')"
   ]
  },
  {
   "cell_type": "code",
   "execution_count": 244,
   "metadata": {
    "collapsed": false
   },
   "outputs": [
    {
     "data": {
      "text/plain": [
       "[(0.3918174686653948,\n",
       "  \"If you haven't found something strange during the day, it hasn't been much of a day.\",\n",
       "  21741),\n",
       " (0.36332163054507383,\n",
       "  'A tough lesson in life that one has to learn is that not everybody wishes you well.',\n",
       "  16855),\n",
       " (0.36270828062854549,\n",
       "  \"Cynicism is not realistic and tough. It's unrealistic and kind of cowardly because it means you don't have to try.\",\n",
       "  16125),\n",
       " (0.361495494485085,\n",
       "  'Human kindness has never weakened the stamina or softened the fiber of a free people. A nation does not have to be cruel to be tough.',\n",
       "  17068),\n",
       " (0.33988683985427687,\n",
       "  \"Life's a tough proposition, and the first hundred years are the hardest.\",\n",
       "  15730),\n",
       " (0.33780276161657358,\n",
       "  'We must combine the toughness of the serpent and the softness of the dove, a tough mind and a tender heart.',\n",
       "  2571),\n",
       " (0.32719136486503791,\n",
       "  'Wait until it is night before saying that is has been a fine day.',\n",
       "  4394),\n",
       " (0.3251229744246989,\n",
       "  \"It's not what you do once in a while, it's what you do day in and day out that makes the difference.\",\n",
       "  12196),\n",
       " (0.32055769316232047,\n",
       "  'You have to have confidence in your ability, and then be tough enough to follow through.',\n",
       "  11652),\n",
       " (0.31350147973069903, 'The day I see a leaf is a marvel of a day.', 16273)]"
      ]
     },
     "execution_count": 244,
     "metadata": {},
     "output_type": "execute_result"
    }
   ],
   "source": [
    "results[:10]"
   ]
  },
  {
   "cell_type": "markdown",
   "metadata": {},
   "source": [
    "# LDA: Topic Modeling"
   ]
  },
  {
   "cell_type": "code",
   "execution_count": 229,
   "metadata": {
    "collapsed": true
   },
   "outputs": [],
   "source": [
    "from sklearn import cross_validation\n",
    "from sklearn.metrics import accuracy_score\n",
    "from sklearn.metrics import mutual_info_score\n",
    "from sklearn.linear_model import LogisticRegression\n",
    "from sklearn.decomposition import LatentDirichletAllocation as LDA"
   ]
  },
  {
   "cell_type": "code",
   "execution_count": 230,
   "metadata": {
    "collapsed": false
   },
   "outputs": [],
   "source": [
    "cv = TfidfVectorizer(tokenizer=LemmaTokenizer(),stop_words='english', max_df=.9,min_df=10**(-6),\n",
    "                     max_features=5000)\n",
    "counts = cv.fit_transform([quote for quote in ID_to_quote.values()])\n",
    "feature_names = cv.get_feature_names()"
   ]
  },
  {
   "cell_type": "code",
   "execution_count": 231,
   "metadata": {
    "collapsed": true
   },
   "outputs": [],
   "source": [
    "n_topic = 20\n",
    "model = LDA(n_topics=n_topic, max_iter=10, n_jobs=1, verbose=0)\n",
    "res = model.fit_transform(counts)"
   ]
  },
  {
   "cell_type": "code",
   "execution_count": 232,
   "metadata": {
    "collapsed": false,
    "scrolled": true
   },
   "outputs": [],
   "source": [
    "def categorize_top_words(model, feature_names, n_top_words):\n",
    "    result=[]\n",
    "    for topic_idx, topic in enumerate(model.components_):\n",
    "        st=\" \".join([feature_names[i] for i in topic.argsort()[:-n_top_words - 1:-1]])\n",
    "        result.append(st)\n",
    "    return result"
   ]
  },
  {
   "cell_type": "code",
   "execution_count": 1,
   "metadata": {
    "collapsed": false
   },
   "outputs": [
    {
     "ename": "NameError",
     "evalue": "name 'entropy' is not defined",
     "output_type": "error",
     "traceback": [
      "\u001b[0;31m---------------------------------------------------------------------------\u001b[0m",
      "\u001b[0;31mNameError\u001b[0m                                 Traceback (most recent call last)",
      "\u001b[0;32m<ipython-input-1-ff95279f1b1e>\u001b[0m in \u001b[0;36m<module>\u001b[0;34m()\u001b[0m\n\u001b[0;32m----> 1\u001b[0;31m \u001b[0;32mdef\u001b[0m \u001b[0mTMRetrieval\u001b[0m\u001b[0;34m(\u001b[0m\u001b[0ms\u001b[0m\u001b[0;34m,\u001b[0m\u001b[0mrank\u001b[0m\u001b[0;34m,\u001b[0m\u001b[0msimilarity_measure\u001b[0m\u001b[0;34m=\u001b[0m\u001b[0mentropy\u001b[0m\u001b[0;34m,\u001b[0m\u001b[0mreverse\u001b[0m\u001b[0;34m=\u001b[0m\u001b[0;34m-\u001b[0m\u001b[0;36m1\u001b[0m\u001b[0;34m)\u001b[0m\u001b[0;34m:\u001b[0m\u001b[0;34m\u001b[0m\u001b[0m\n\u001b[0m\u001b[1;32m      2\u001b[0m     \u001b[0mquery\u001b[0m \u001b[0;34m=\u001b[0m \u001b[0mcv\u001b[0m\u001b[0;34m.\u001b[0m\u001b[0mtransform\u001b[0m\u001b[0;34m(\u001b[0m\u001b[0ms\u001b[0m\u001b[0;34m)\u001b[0m\u001b[0;34m\u001b[0m\u001b[0m\n\u001b[1;32m      3\u001b[0m     \u001b[0munnormalized\u001b[0m \u001b[0;34m=\u001b[0m \u001b[0mnp\u001b[0m\u001b[0;34m.\u001b[0m\u001b[0mmatrix\u001b[0m\u001b[0;34m(\u001b[0m\u001b[0mmodel\u001b[0m\u001b[0;34m.\u001b[0m\u001b[0mtransform\u001b[0m\u001b[0;34m(\u001b[0m\u001b[0mquery\u001b[0m\u001b[0;34m)\u001b[0m\u001b[0;34m)\u001b[0m\u001b[0;34m\u001b[0m\u001b[0m\n\u001b[1;32m      4\u001b[0m     \u001b[0mnormalized\u001b[0m\u001b[0;34m=\u001b[0m\u001b[0munnormalized\u001b[0m\u001b[0;34m/\u001b[0m\u001b[0munnormalized\u001b[0m\u001b[0;34m.\u001b[0m\u001b[0msum\u001b[0m\u001b[0;34m(\u001b[0m\u001b[0maxis\u001b[0m \u001b[0;34m=\u001b[0m\u001b[0;36m1\u001b[0m\u001b[0;34m)\u001b[0m\u001b[0;34m\u001b[0m\u001b[0m\n\u001b[1;32m      5\u001b[0m \u001b[0;34m\u001b[0m\u001b[0m\n",
      "\u001b[0;31mNameError\u001b[0m: name 'entropy' is not defined"
     ]
    }
   ],
   "source": [
    "def TMRetrieval(s,rank,similarity_measure=entropy,reverse=-1):\n",
    "    query = cv.transform(s)\n",
    "    unnormalized = np.matrix(model.transform(query))\n",
    "    normalized=unnormalized/unnormalized.sum(axis =1)\n",
    "\n",
    "    all_scores = []\n",
    "    for i,data in enumerate(res):\n",
    "        all_scores.append(similarity_measure(np.asarray(data).reshape(-1),np.asarray(normalized).reshape(-1)))\n",
    "    \n",
    "\n",
    "    top20=np.asarray(all_scores).argsort()[reverse*rank:]\n",
    "    print(\"\\n\")\n",
    "    for index in top20:\n",
    "        print (ID_to_quote[index+1],ID_to_author[index+1],'similarity: ',all_scores[index])\n",
    "        print ('\\n')\n",
    "    return top20"
   ]
  },
  {
   "cell_type": "code",
   "execution_count": 240,
   "metadata": {
    "collapsed": false
   },
   "outputs": [
    {
     "name": "stdout",
     "output_type": "stream",
     "text": [
      "\n",
      "\n",
      "('One man may hit the mark, another blunder but heed not these distinctions. Only from the alliance of the one, working with and through the other, are great things born.', 'Antoine De Saint-Exupery', 'similarity: ', 4.7161735501787216)\n",
      "\n",
      "\n",
      "('I always like to know everything about my new friends, and nothing about my old ones.', 'Oscar Wilde', 'similarity: ', 4.7189334895869148)\n",
      "\n",
      "\n",
      "('Always begin anew with the day, just as nature does it is one of the sensible things that nature does.', 'George E. Woodbury', 'similarity: ', 4.723085960958044)\n",
      "\n",
      "\n",
      "('I report to you that our country is challenged at home and abroad that it is our will that is being tried and not our strength our sense of purpose and not our ability to achieve a better America.', 'Lyndon B. Johnson', 'similarity: ', 4.7269979444795398)\n",
      "\n",
      "\n",
      "(\"I never lecture, not because I am shy or a bad speaker, but simply because I detest the sort of people who go to lectures and don't want to meet them.\", 'H.L. Mencken', 'similarity: ', 4.7311157291216563)\n",
      "\n",
      "\n",
      "('A man should learn to detect and watch that gleam that flashes across his mind from within, more than the lustre of the firmament of bards and sages. Yet he dismisses without notice his own thought, because it is his. In every work of genius we recognize our own rejected thoughts they come back to us with a sort of alienated majesty.', 'Ralph Waldo Emerson', 'similarity: ', 4.7325170388199567)\n",
      "\n",
      "\n",
      "('Throw your dreams into space like a kite, and you do not know what it will bring back, a new life, a new friend, a new love, a new country.', 'Anais Nin', 'similarity: ', 4.7345359067631358)\n",
      "\n",
      "\n",
      "(\"If my doctor told me I had only six minutes to live, I wouldn't brood. I'd type a little faster.\", 'Isaac Asimov', 'similarity: ', 4.7446632893731877)\n",
      "\n",
      "\n",
      "('America has not always been kind to its artists and scholars. Somehow the scientists always seem to get the penthouse while the arts and humanities get the basement.', 'Lyndon B. Johnson', 'similarity: ', 4.7547579832481377)\n",
      "\n",
      "\n",
      "(\"It's too bad I'm not as wonderful a person as people say I am, because the world could use a few people like that.\", 'Alan Alda', 'similarity: ', 4.7590460334773015)\n",
      "\n",
      "\n",
      "('In order to be utterly happy the only thing necessary is to refrain from comparing this moment with other moments in the past, which I often did not fully enjoy because I was comparing them with other moments of the future.', 'Andr Gide', 'similarity: ', 4.759289965770674)\n",
      "\n",
      "\n",
      "('Finish each day and be done with it. You have done what you could some blunders and absurdities have crept in forget them as soon as you can. Tomorrow is a new day you shall begin it serenely and with too high a spirit to be encumbered with your old nonsense.', 'Ralph Waldo Emerson', 'similarity: ', 4.7838681724158967)\n",
      "\n",
      "\n",
      "(\"My father always used to say that when you die, if you've got five real friends, then you've had a great life.\", 'Lee Iacocca', 'similarity: ', 4.8149948998145975)\n",
      "\n",
      "\n",
      "(\"My father always used to say that when you die, if you've got five real friends, you've had a great life.\", 'Elbert Hubbard', 'similarity: ', 4.8149948998145975)\n",
      "\n",
      "\n",
      "('A learned man is an idler who kills time with study. Beware of his false knowledge it is more dangerous than ignorance.', 'George Bernard Shaw', 'similarity: ', 4.8380604725692562)\n",
      "\n",
      "\n",
      "('Humility must always be the portion of any man who receives acclaim earned in the blood of his followers and the sacrifices of his friends.', 'Dwight D Eisenhower', 'similarity: ', 4.8402670141084805)\n",
      "\n",
      "\n",
      "(\"One doesn't discover new lands without consenting to lose sight of the shore for a very long time.\", 'Andre Gide', 'similarity: ', 4.8482980551914485)\n",
      "\n",
      "\n",
      "('One does not discover new lands without consenting to lose sight of the shore for a very long time.', 'Andr Gide', 'similarity: ', 4.8482980551914485)\n",
      "\n",
      "\n",
      "('We will have to repent in this generation not merely for the hateful words and actions of the bad people but for the appalling silence of the good people.', 'Martin Luther King, Jr.', 'similarity: ', 4.8485034925451824)\n",
      "\n",
      "\n",
      "('Life is a process of becoming, a combination of states we have to go through. Where people fail is that they wish to elect a state and remain in it. This is a kind of death.', 'Anais Nin', 'similarity: ', 4.8628288917635603)\n",
      "\n",
      "\n"
     ]
    },
    {
     "data": {
      "text/plain": [
       "array([  351,  5130, 19217,   227,    30,   576,   149,   127,   237,\n",
       "        9973,   102,   500,     5,  7078,   411,   253, 20359,   107,\n",
       "        2550,   152], dtype=int64)"
      ]
     },
     "execution_count": 240,
     "metadata": {},
     "output_type": "execute_result"
    }
   ],
   "source": [
    "topindex=TMRetrieval(['It has been a tough day'],20)"
   ]
  },
  {
   "cell_type": "markdown",
   "metadata": {
    "collapsed": true
   },
   "source": [
    "# Aggregating Author's quote (NOT RECOMMENDED)"
   ]
  },
  {
   "cell_type": "code",
   "execution_count": 210,
   "metadata": {
    "collapsed": false
   },
   "outputs": [],
   "source": [
    "newquotes=defaultdict(str)\n",
    "for author in author_to_ID.keys():\n",
    "    for quoteID in author_to_ID[author]:\n",
    "        newquotes[author]=newquotes[author]+'/*/'+ID_to_quote[int(quoteID)]"
   ]
  },
  {
   "cell_type": "code",
   "execution_count": 215,
   "metadata": {
    "collapsed": false
   },
   "outputs": [],
   "source": [
    "n_feats=5000;#Assuming the word usages are not more diverse than the movie scripts\n",
    "agg_model = TfidfVectorizer('content',tokenizer=LemmaTokenizer(),min_df=10**(-6),max_df=0.8,max_features=n_feats,norm=None )\n",
    "agg_matrix=agg_model.fit_transform([quote for quote in newquotes.values()])\n",
    "\n",
    "\n",
    "agg_cv = CountVectorizer(tokenizer=LemmaTokenizer(), max_df=.8,min_df=10**(-6),max_features=5000)\n",
    "agg_counts = agg_cv.fit_transform([quote for quote in newquotes.values()])\n",
    "\n",
    "n_topic = 20\n",
    "\n",
    "model_agg = LDA(n_topics=n_topic, max_iter=10, n_jobs=1, verbose=0)\n",
    "agg = model_agg.fit_transform(agg_counts)\n"
   ]
  },
  {
   "cell_type": "code",
   "execution_count": 227,
   "metadata": {
    "collapsed": false
   },
   "outputs": [],
   "source": [
    "def AggIR(s,numRetrieve,rank=3, similarity_measure=entropy, reverse=-1,selection='mean'):\n",
    "    query = agg_model.transform(s)\n",
    "    unnormalized = np.matrix(model_agg.transform(query))\n",
    "    normalized=unnormalized/unnormalized.sum(axis =1)\n",
    "    #Naively, we are using the average quality of the aggregated_quote to measure similarity\n",
    "    #Other ways could be using the modes of the aggregation\n",
    "    if selection=='mean':\n",
    "        all_scores = []\n",
    "        for i,data in enumerate(agg):\n",
    "            all_scores.append(similarity_measure(np.asarray(data).reshape(-1),np.asarray(normalized).reshape(-1)))\n",
    "    else:\n",
    "        print('error')\n",
    "    top20=np.asarray(all_scores).argsort()[reverse*rank:]\n",
    "\n",
    "    \n",
    "    print(\"\\n\")\n",
    "    for index in top20:\n",
    "        print (newquotes[ID_to_author[index+1]],all_scores[index])\n",
    "        print ('\\n')\n",
    "    return top20"
   ]
  },
  {
   "cell_type": "code",
   "execution_count": 228,
   "metadata": {
    "collapsed": false
   },
   "outputs": [
    {
     "name": "stdout",
     "output_type": "stream",
     "text": [
      "\n",
      "\n",
      "(\"/*/The object of the superior man is truth./*/A journey of a thousand miles begins with a single step./*/I hear and I forget. I see and I remember. I do and I understand./*/Only the wisest and stupidest of men never change./*/Our greatest glory is not in never falling, but in rising every time we fall./*/Real knowledge is to know the extent of one's ignorance./*/A man who does not plan long ahead will find trouble right at his door./*/Everything has its beauty but not everyone sees it./*/To know that one knows what one knows, and to know that one doesn't know what one doesn't know, there lies true wisdom./*/Without knowing the force of words, it is impossible to know men./*/Things that are done, it is needless to speak about...things that are past, it is needless to blame./*/The cautious seldom err./*/He who wishes to secure the good of others has already secured his own./*/To be wronged is nothing unless you continue to remember it./*/Learning without thought is labor lost thought without learning is perilous./*/It is only the wisest and the stupidest that cannot change./*/To be able to practice five things everywhere under heaven constitutes perfect virtue...They are gravity, generosity of soul, sincerity, earnestness, and kindness./*/The expectations of life depend upon diligence the mechanic that would perfect his work must first sharpen his tools./*/Silence is a friend who will never betray./*/He does not preach what he practices till he has practiced what he preaches./*/He who learns but does not think, is lost He who thinks but does not learn is in great danger./*/If we don't know life, how can we know death/*/When you have faults, do not fear to abandon them./*/The perfecting of one's self is the fundamental base of all progress and all moral development./*/To see what is right, and not to do it, is want of courage or of principle./*/The essence of knowledge is, having it, to apply it not having it, to confess your ignorance./*/It does not matter how slowly you go so long as you do not stop./*/Ignorance is the night of the mind, but a night without moon and star./*/Wheresoever you go, go with all your heart./*/The wheel of fortune turns round incessantly, and who can say to himself, I shall to-day be uppermost./*/Heaven means to be one with God./*/The superior man acts before he speaks, and afterwards speaks according to his actions./*/If I am walking with two other men, each of them will serve as my teacher. I will pick out the good points of the one and imitate them, and the bad points of the other and correct them in myself./*/We take greater pains to persuade others that we are happy than in endeavoring to think so ourselves./*/The superior man makes the difficulty to be overcome his first interest success only comes later./*/Looking at small advantages prevents great affairs from being accomplished./*/Better a diamond with a flaw than a pebble without./*/When you know a thing, to hold that you know it and when you do not know a thing, to allow that you do not know it - this is knowledge./*/By three methods we may learn wisdom First, by reflection, which is noblest Second, by imitation, which is easiest and third by experience, which is the bitterest./*/Virtue is not left to stand alone. He who practices it will have neighbors./*/Wealth and rank are what people desire, but unless they be obtained in the right way they may not be possessed./*/What is the sound of one hand clapping/*/Fine words and an insinuating appearance are seldom associated with true virtue./*/Silence is the true friend that never betrays./*/I do not want a friend Who smiles when I smile Who weeps when I weep For my shadow in the pool Can do better than that./*/Do not use a cannon to kill a mosquito./*/Men's natures are alike, it is their habits that carry them far apart./*/Be not ashamed of mistakes and thus make them crimes./*/He who will not economize will have to agonize./*/Forget injuries, never forget kindnesses./*/Study the past if you would define the future./*/Respect yourself and others will respect you./*/They must often change who would be constant in happiness or wisdom./*/The superior man, when resting in safety, does not forget that danger may come. When in a state of security he does not forget the possibility of ruin. When all is orderly, he does not forget that disorder may come. Thus his person is not endangered, and his States and all their clans are preserved./*/By nature, men are nearly alike by practice, they get to be wide apart./*/When anger rises, think of the consequences./*/What the superior man seeks is in himself what the small man seeks is in others./*/Have no friends not equal to yourself./*/When we see men of a contrary character, we should turn inwards and examine ourselves./*/He who speaks without modesty will find it difficult to make his words good./*/If a man withdraws his mind from the love of beauty, and applies it as sincerely to the love of the virtuous if, in serving his parents, he can exert his utmost strength if, in serving his prince, he can devote his life if in his intercourse with his friends, his words are sincere - although men say that he has not learned, I will certainly say that he has./*/He who exercises government by means of his virtue may be compared to the north polar star, which keeps its place and all the stars turn towards it./*/He with whom neither slander that gradually soaks into the mind, nor statements that startle like a wound in the flesh, are successful may be called intelligent indeed./*/I have not seen a person who loved virtue, or one who hated what was not virtuous. He who loved virtue would esteem nothing above it./*/Is virtue a thing remote I wish to be virtuous, and lo Virtue is at hand./*/Hold faithfulness and sincerity as first principles./*/If a man takes no thought about what is distant, he will find sorrow near at hand./*/I am not one who was born in the possession of knowledge I am one who is fond of antiquity, and earnest in seeking it there./*/The superior man is modest in his speech, but exceeds in his actions./*/The man who in view of gain thinks of righteousness who in the view of danger is prepared to give up his life and who does not forget an old agreement however far back it extends - such a man may be reckoned a complete man./*/The man of virtue makes the difficulty to be overcome his first business, and success only a subsequent consideration./*/The determined scholar and the man of virtue will not seek to live at the expense of injuring their virtue. They will even sacrifice their lives to preserve their virtue complete./*/The scholar who cherishes the love of comfort is not fit to be deemed a scholar./*/The firm, the enduring, the simple, and the modest are near to virtue./*/Recompense injury with justice, and recompense kindness with kindness./*/The superior man cannot be known in little matters, but he may be entrusted with great concerns. The small man may not be entrusted with great concerns, but he may be known in little matters./*/The people may be made to follow a path of action, but they may not be made to understand it./*/To go beyond is as wrong as to fall short./*/What you do not want done to yourself, do not do to others./*/There are three things which the superior man guards against. In youth...lust. When he is strong...quarrelsomeness. When he is old...covetousness./*/Virtue is more to man than either water or fire. I have seen men die from treading on water and fire, but I have never seen a man die from treading the course of virtue./*/The superior man...does not set his mind either for anything, or against anything what is right he will follow./*/The superior man is satisfied and composed the mean man is always full of distress./*/Without an acquaintance with the rules of propriety, it is impossible for the character to be established./*/While you are not able to serve men, how can you serve spirits of the dead...While you do not know life, how can you know about death/*/When we see men of worth, we should think of equaling them when we see men of a contrary character, we should turn inwards and examine ourselves./*/When a man's knowledge is sufficient to attain, and his virtue is not sufficient to enable him to hold, whatever he may have gained, he will lose again./*/With coarse rice to eat, with water to drink, and my bended arm for a pillow - I have still joy in the midst of these things. Riches and honors acquired by unrighteousness are to me as a floating cloud.\", 5.8013939021590435)\n",
      "\n",
      "\n",
      "(\"/*/Being president is like being a jackass in a hailstorm. There's nothing to do but to stand there and take it./*/When things haven't gone well for you, call in a secretary or a staff man and chew him out. You will sleep better and they will appreciate the attention./*/I won't have you electioneering on my doorstep. Every time you get in trouble in Parliament you run over here with your shirttail hanging out. (To Prime Minister Harold Wilson)/*/Our purpose in Vietnam is to prevent the success of aggression. It is not conquest, it is not empire, it is not foreign bases, it is not domination. It is, simply put, just to prevent the forceful conquest of South Vietnam by North Vietnam./*/If you let a bully come in your front yard, he'll be on your porch the next day and the day after that he'll rape your wife in your own bed. (On appeasement)/*/I don't believe I'll ever get credit for anything I do in foreign affairs, no matter how successful it is, because I didn't go to Harvard./*/The Negro says, 'Now.' Others say, 'Never.' The voice of responsible Americans ... says, 'Together.' There is no other way./*/Until justice is blind to color, until education is unaware of race, until opportunity is unconcerned with the color of men's skins, emancipation will be a proclamation but not a fact./*/I greet you as the shapers of American society./*/There are plenty of recommendations on how to get out of trouble cheaply and fast. Most of them come down to this Deny your responsibility./*/All that Hubert needs over there is a gal to answer the phone and a pencil with an eraser on it./*/I seldom think of politics more than 18 hours a day./*/I believe the destiny of your generation-and your nation-is a rendezvous with excellence./*/Poverty must not be a bar to learning and learning must offer an escape from poverty./*/Every man has a right to a Saturday night bath./*/We have entered an age in which education is not just a luxury permitting some men an advantage over others. It has become a necessity without which a person is defenseless in this complex, industrialized society. ... We have truly entered the century of the educated man./*/A man can take a little bourbon without getting drunk, but if you hold his mouth open and pour in a quart, he's going to get sick on it./*/Jack was out kissing babies while I was out passing bills. Someone had to tend the store./*/Organized crime constitutes nothing less than a guerilla war against society./*/The presidency has made every man who occupied it, no matter how small, bigger than he was and no matter how big, not big enough for its demands./*/The CIA is made up of boys whose families sent them to Princeton but wouldn't let them into the family brokerage business./*/If two men agree on everything, you may be sure that one of them is doing the thinking./*/It is the common failing of totalitarian regimes that they cannot really understand the nature of our democracy. They mistake dissent for disloyalty. They mistake restlessness for a rejection of policy. They mistake a few committees for a country. They misjudge individual speeches for public policy. (Answering North Vietnamese charge that US could not endure)/*/The noblest search is the search for excellence./*/I'm tired. I'm tired of feeling rejected by the American people. I'm tired of waking up in the middle of the night worrying about the war./*/Light at the end of the tunnel We don't even have a tunnel we don't even know where the tunnel is./*/The American city should be a collection of communities where every member has a right to belong. It should be a place where every man feels safe on his streets and in the house of his friends. It should be a place where each individual's dignity and self-respect is strengthened by the respect and affection of his neighbors. It should be a place where each of us can find the satisfaciton and warmth which comes from being a member of the community of man. This is what man sought at the dawn of civilzation. It is what we seek today./*/I will do my best. That is all I can do. I ask for your help-and God's./*/I'd rather give my life than be afraid to give it./*/We have talked long enough in this country about equal rights. ... It is time now to write the next chapter-and to write it in the books of law./*/This administration here and now declares unconditional war on poverty./*/I want to make a policy statement. I am unabashedly in favor of women. (On appointing 10 women to top government positions)/*/We have the opportunity to move not only toward the rich society and the powerful society, but upward to the Great Society./*/We Americans know-although others appear to forget-the risk of spreading conflict. We still seek no wider war. (On ordering retaliatory action against North Vietnam)/*/They call upon us to supply American boys to do the job that Asian boys should do./*/When I was a boy ... we didn't wake up with Vietnam and have Cyprus for lunch and the Congo for dinner/*/A rioter with a Molotov cocktail in his hands is not fighting for civil rights any more than a Klansman with a sheet on his back and mask on his face. They are both more or less what the law declares them lawbreakers, destroyers of constitutional rights and liberties and ultimately destroyers of a free America./*/Our numbers have increased in Vietnam because the aggression of others has increased in Vietnam. There is not, and there will not be, a mindless escalation./*/I report to you that our country is challenged at home and abroad that it is our will that is being tried and not our strength our sense of purpose and not our ability to achieve a better America./*/In this age when there can be no losers in peace and no victors in war, we must recognize the obligation to match national strength with national restraint./*/Presidents quickly realize that while a single act might destroy the world they live in, no one single decision can make life suddenly better or can turn history around for good./*/War is always the same. It is young men dying in the fullness of their promise. It is trying to kill a man that you do not even know well enough to hate. Therefore, to know war is to know that there is still madness in the world./*/I knew from the start if I left a woman I really loved -- the Great Society -- in order to fight that bitch of a war in Vietnam  then I would lose everything at home. My hopes  my dreams./*/I believe, with abiding conviction, that this people-nurtured by their deep faith, tutored by their hard lessons, moved by their high aspirations-have the will to meet the trials that these times impose./*/What we won when all of our people united ... must not be lost in suspicion and distrust and selfishness and politics. ... Accordingly, I shall not seek, and I will not accept, the nomination of my party for another term as president./*/To conclude that women are unfitted to the task of our historic society seems to me the equivalent of closing male eyes to female facts./*/A compassionate government keeps faith with the trust of the people and cherishes the future of their children./*/Democracy is a constant tension between truth and half-truth and, in the arsenal of truth, there is no greater weapon than fact./*/America has not always been kind to its artists and scholars. Somehow the scientists always seem to get the penthouse while the arts and humanities get the basement./*/If one morning I walked on top of the water across the Potomac River, the headline that afternoon would read President Can't Swim./*/We can draw lessons from the past, but we cannot live in it./*/It is the excitement of becoming - always becoming, trying, probing, falling, resting, and trying again- but always trying and always gaining.../*/Yesterday is not ours to recover, but tomorrow is ours to win or to lose./*/America is not merely a nation but a nation of nations.\", 5.814363257505998)\n",
      "\n",
      "\n",
      "(\"/*/The whole aim of practical politics is to keep the populace in a continual state of alarm (and hence clamorous to be led to safety) by menacing them with an endless series of hobgoblins, all of them imaginary./*/The penalty for laughing in a courtroom is six months in jail if it were not for this penalty, the jury would never hear the evidence./*/Imagine the Creator as a stand up commedian - and at once the world becomes explicable./*/We must respect the other fellow's religion,but only in the sense and to the extent that we respect his theory that his wife is beautiful and his children smart./*/It is hard to believe that a man is telling the truth when you know that you would lie if you were in his place./*/Communism, like any other revealed religion, is largely made up of prophecies./*/JUDGE, n A law student who marks his own papers./*/A celebrity is one who is known to many persons he is glad he doesn't know./*/Any man who afflicts the human race with ideas must be prepared to see them misunderstood./*/A cynic is a man who, when he smells flowers, looks around for a coffin./*/A home is not a mere transient shelter its essence lies in the personalities of the people who live in it./*/All men are frauds. The only difference between them is that some admit it. I myself deny it./*/All successful newspapers are ceaselessly querulous and bellicose. They never defend anyone or anything if they can help it if the job is forced on them, they tackle it by denouncing someone or something else./*/All zoos actually offer to the public in return for the taxes spent upon them is a form of idle and witless amusement, compared to which a visit to a penitentiary, or even to a State legislature in session, is informing, stimulating and ennobling./*/A poet more than thirty years old is simply an overgrown child./*/An idealist is one who, on noticing that a rose smells better than a cabbage, concludes that it will also make better soup./*/Giving every man a vote has no more made men wise and free than Christianity has made them good./*/Democracy is the theory that the common people know what they want and deserve to get it good and hard./*/Every decent man is ashamed of the government he lives under./*/I never lecture, not because I am shy or a bad speaker, but simply because I detest the sort of people who go to lectures and don't want to meet them./*/I believe that all government is evil, and that trying to improve it is largely a waste of time./*/Criticism is prejudice made plausible./*/Faith may be defined briefly as an illogical belief in the occurrence of the improbable./*/For it is mutual trust, even more than mutual interest that holds human associations together. Our friends seldom profit us but they make us feel safe... Marriage is a scheme to accomplish exactly that same end./*/In the United States, doing good has come to be, like patriotism, a favorite device of persons with something to sell./*/For centuries, theologians have been explaining the unknowable in terms of the-not-worth-knowing./*/Misogynist A man who hates women as much as women hate one another./*/It is inaccurate to say that I hate everything. I am strongly in favor of common sense, common honesty, and common decency. This makes me forever ineligible for public office./*/Men are the only animals that devote themselves, day in and day out, to making one another unhappy. It is an art like any other. Its virtuosi are called altruists./*/It is now quite lawful for a Catholic woman to avoid pregnancy by a resort to mathematics, though she is still forbidden to resort to physics or chemistry./*/Man is never honestly the fatalist, nor even the stoic. He fights his fate, often desperately. He is forever entering bold exceptions to the rulings of the bench of gods. This fighting, no doubt, makes for human progress, for it favors the strong and the brave. It also makes for beauty, for lesser men try to escape from a hopeless and intolerable world by creating a more lovely one of their own./*/It is impossible to imagine Goethe or Beethoven being good at billiards or golf./*/Love is the triumph of imagination over intelligence./*/It is even harder for the average ape to believe that he has descended from man./*/It is the dull man who is always sure, and the sure man who is always dull./*/Philosophy consists very largely of one philosopher arguing that all others are jackasses. He usually proves it, and I should add that he also usually proves that he is one himself./*/The chief value of money lies in the fact that one lives in a world in which it is overestimated./*/The government consists of a gang of men exactly like you and me. They have, taking one with another, no special talent for the business of government they have only a talent for getting and holding office./*/Platitude an idea (a) that is admitted to be true by everyone, and (b) that is not true./*/The capacity of human beings to bore one another seems to be vastly greater than that of any other animal./*/Say what you will about the Ten Commandments, you must always come back to the pleasant fact that there are only ten of them./*/Never let your inferiors do you a favor - it will be extremely costly./*/Puritanism The haunting fear that someone, somewhere, may be happy./*/The most common of all follies is to believe passionately in the palpably not true. It is the chief occupation of mankind./*/Nobody ever went broke underestimating the taste of the American public./*/The difference between a moral man and a man of honor is that the latter regrets a discreditable act, even when it has worked and he has not been caught./*/We are here and it is now. Further than that all human knowledge is moonshine./*/The older I grow the more I distrust the familiar doctrine that age brings wisdom./*/To die for an idea it is unquestionably noble. But how much nobler it would be if men died for ideas that were true/*/The trouble with fighting for human freedom is that one spends most of one's time defending scoundrels. For it is against scoundrels that oppressive laws are first aimed, and oppression must be stopped at the beginning if it is to be stopped at all./*/The world always makes the assumption that the exposure of an error is identical with the discovery of truth--that the error and truth are simply opposite. They are nothing of the sort. What the world turns to, when it is cured on one error, is usually simply another error, and maybe one worse than the first one./*/Under democracy one party always devotes its chief energies to trying to prove that the other party is unfit to rule - and both commonly succeed, and are right./*/Unquestionably, there is progress. The average American now pays out twice as much in taxes as he formerly got in wages./*/After all, all he did was string together a lot of old, well-known quotations./*/For every human problem, there is a neat, simple solution and it is always wrong/*/Conscience is the inner voice that warns us somebody may be looking.\", 5.9395595717904737)\n",
      "\n",
      "\n"
     ]
    },
    {
     "data": {
      "text/plain": [
       "array([1225,  222,   24], dtype=int64)"
      ]
     },
     "execution_count": 228,
     "metadata": {},
     "output_type": "execute_result"
    }
   ],
   "source": [
    "AggIR(['It has been a tough day'],10)"
   ]
  },
  {
   "cell_type": "markdown",
   "metadata": {},
   "source": [
    "# Create Fake Documents"
   ]
  },
  {
   "cell_type": "code",
   "execution_count": 142,
   "metadata": {
    "collapsed": true
   },
   "outputs": [],
   "source": [
    "#Expand every word in the document by Stanford Empath Library\n",
    "def fake_words(w,span):\n",
    "    fiction_set=lexicon.create_category(w,[w],size=span,model='fiction',write=False)\n",
    "    nytimes_set=lexicon.create_category(w,[w],size=span,model='nytimes',write=False)\n",
    "    reddit_set=lexicon.create_category(w,[w],size=span,model='reddit',write=False)\n",
    "    results = set((set(nytimes_set).intersection(set(reddit_set))).union((set(fiction_set).intersection(set(nytimes_set)))))\n",
    "    return list(results)"
   ]
  },
  {
   "cell_type": "code",
   "execution_count": 143,
   "metadata": {
    "collapsed": true
   },
   "outputs": [],
   "source": [
    "def add_fake_words(w,span):\n",
    "    ws=\" \".join(fake_words(w,span))\n",
    "    return ws"
   ]
  },
  {
   "cell_type": "code",
   "execution_count": 57,
   "metadata": {
    "collapsed": false
   },
   "outputs": [],
   "source": [
    "import collections\n",
    "#Read the fake documents\n",
    "with open('fake_documents.json','r') as data:\n",
    "    fake_documents= json.load(data)\n",
    "fake_documents=collections.OrderedDict(sorted(fake_documents.items(),key=lambda t:int(t[0])))"
   ]
  },
  {
   "cell_type": "code",
   "execution_count": 235,
   "metadata": {
    "collapsed": false
   },
   "outputs": [],
   "source": [
    "n_feats=5000;#Assuming the word usages are not more diverse than the movie scripts\n",
    "fake_model = TfidfVectorizer('content',tokenizer=LemmaTokenizer(),min_df=5,max_df=0.8,max_features=n_feats,norm=None )\n",
    "fake_matrix=fake_model.fit_transform([quote for quote in fake_documents.values()])"
   ]
  },
  {
   "cell_type": "code",
   "execution_count": 236,
   "metadata": {
    "collapsed": false
   },
   "outputs": [],
   "source": [
    "#Construct the training matrix\n",
    "fake_cv = CountVectorizer(tokenizer=LemmaTokenizer(), max_df=.9,min_df=10**(-6),\n",
    "                     max_features=5000)\n",
    "fake_counts = fake_cv.fit_transform([quote for quote in fake_documents.values()])\n",
    "#Number of topics\n",
    "n_topic = 20\n",
    "#Outline the structure of the model\n",
    "model1 = LDA(n_topics=n_topic, max_iter=10, n_jobs=1, verbose=0)\n",
    "#Fit the model\n",
    "res1 = model1.fit_transform(fake_counts)\n"
   ]
  },
  {
   "cell_type": "code",
   "execution_count": 241,
   "metadata": {
    "collapsed": false,
    "scrolled": true
   },
   "outputs": [],
   "source": [
    "def FakeIR(s,rank, similarity_measure=entropy, reverse=-1):\n",
    "    query = fake_model.transform(s)\n",
    "    unnormalized = np.matrix(model1.transform(query))\n",
    "    normalized=unnormalized/unnormalized.sum(axis =1)\n",
    "\n",
    "    all_scores = []\n",
    "    for i,data in enumerate(res1):\n",
    "        all_scores.append(similarity_measure(np.asarray(data).reshape(-1),np.asarray(normalized).reshape(-1)))\n",
    "    \n",
    "\n",
    "    top20=np.asarray(all_scores).argsort()[reverse*rank:]\n",
    "    print(\"\\n\")\n",
    "    for index in top20:\n",
    "        print (ID_to_quote[index+1],ID_to_author[index+1],all_scores[index])\n",
    "        print ('\\n')\n",
    "    return top20"
   ]
  },
  {
   "cell_type": "code",
   "execution_count": 242,
   "metadata": {
    "collapsed": false,
    "scrolled": false
   },
   "outputs": [
    {
     "name": "stdout",
     "output_type": "stream",
     "text": [
      "\n",
      "\n",
      "(\"To be pleased with one's limits is a wretched state.\", 'Johann Wolfgang von Goethe', 5.4861491545679373)\n",
      "\n",
      "\n",
      "('Against logic there is no armor like ignorance.', 'Laurence J. Peter', 5.4864785279914212)\n",
      "\n",
      "\n",
      "('Truth is the summit of being justice is the application of it to affairs.', 'Ralph Waldo Emerson', 5.4952897680363328)\n",
      "\n",
      "\n",
      "('When you have nothing to say, say nothing.', 'Charles Caleb Colton', 5.4952897696361598)\n",
      "\n",
      "\n",
      "('Excuse me while I kiss the sky.', 'Jimi Hendrix', 5.5038257572705929)\n",
      "\n",
      "\n",
      "('Let the refining and improving of your own life keep you so busy that you have little time to criticize others.', 'H. Jackson Browne', 5.5038257596702742)\n",
      "\n",
      "\n",
      "('The golden rule is that there are no golden rules.', 'George Bernard Shaw', 5.5118163328392402)\n",
      "\n",
      "\n",
      "('If an eye never falls asleep, All dreams will by themselves cease If the mind retains its absoluteness, The ten thousand things are of one suchness.', \"Seng-T'San\", 5.5193131620577622)\n",
      "\n",
      "\n",
      "('Nothing is there more friendly to a man than a friend in need.', 'Titus Maccius Plautus', 5.5263614949378583)\n",
      "\n",
      "\n",
      "('Faith may be defined briefly as an illogical belief in the occurrence of the improbable.', 'H.L. Mencken', 5.5263615087755005)\n",
      "\n",
      "\n",
      "('Some people like my advice so much that they frame it upon the wall instead of using it.', 'Gordon R. Dickson', 5.5392675033394596)\n",
      "\n",
      "\n",
      "('Earth and sky, woods and fields, lakes and rivers, the mountain and the sea, are excellent schoolmasters, and teach some of us more than we can ever learn from books.', 'Sir John Lubbock', 5.5392675073532214)\n",
      "\n",
      "\n",
      "(\"Most people who succeed n the face of seemingly impossible conditions are people who simply don't know how to quit.\", 'Dr. Robert Schuller', 5.5508013788806263)\n",
      "\n",
      "\n",
      "('Writing only leads to more writing.', 'Sidonie Gabrielle Colette', 5.5611746713015853)\n",
      "\n",
      "\n",
      "('You will do foolish things, but do them with enthusiasm.', 'Colette', 5.5611746713015853)\n",
      "\n",
      "\n",
      "('Billy T-T-T-T-Today, Junior', 'Billy Madison', 5.5659804899362477)\n",
      "\n",
      "\n",
      "(\"Nobody goes there anymore because it's too crowded.\", 'Lawrence Peter Berra', 5.5705571953300836)\n",
      "\n",
      "\n",
      "('The art of living is more like wrestling than dancing, in so far as it stands ready against the accidental and the unforeseen, and is not apt to fall.', 'Marcus Aurelius Antoninus', 5.5749210589535405)\n",
      "\n",
      "\n",
      "('A writer must refuse to allow himself to be transformed into an institution.', 'Jean-Paul Sartre', 5.5790868963396578)\n",
      "\n",
      "\n",
      "('A government big enough to give you everything you want is a government big enough to take from you everything you have.', 'Gerald R. Ford', 5.5868770133803336)\n",
      "\n",
      "\n"
     ]
    },
    {
     "data": {
      "text/plain": [
       "array([20328,  3630,   594,  2315, 14113, 11320,   469, 17444, 21025,\n",
       "          33, 12566, 15263, 17386, 12101, 19907,   166, 10740, 10126,\n",
       "        9198, 13069], dtype=int64)"
      ]
     },
     "execution_count": 242,
     "metadata": {},
     "output_type": "execute_result"
    }
   ],
   "source": [
    "topindex=FakeIR(['It has been a tough day.'],20)"
   ]
  },
  {
   "cell_type": "code",
   "execution_count": null,
   "metadata": {
    "collapsed": true
   },
   "outputs": [],
   "source": []
  },
  {
   "cell_type": "markdown",
   "metadata": {},
   "source": [
    "# --------------------------IGNORE CELLS BELOW THIS ONE---------------------------------"
   ]
  },
  {
   "cell_type": "markdown",
   "metadata": {},
   "source": [
    "# Tackle the problem from PLS and Group LASSO"
   ]
  },
  {
   "cell_type": "markdown",
   "metadata": {},
   "source": [
    "# Biterm Model"
   ]
  },
  {
   "cell_type": "markdown",
   "metadata": {},
   "source": [
    "# Additional features: pronounces, mark of negation, diverse of speech?sentimental analysis?"
   ]
  },
  {
   "cell_type": "code",
   "execution_count": null,
   "metadata": {
    "collapsed": false,
    "scrolled": false
   },
   "outputs": [],
   "source": [
    "lexicon.create_category('people',['people'],size=20,model='reddit',write=False)"
   ]
  },
  {
   "cell_type": "code",
   "execution_count": null,
   "metadata": {
    "collapsed": false
   },
   "outputs": [],
   "source": [
    "lexicon.create_category('people',['people'],size=20,model='nytimes',write=False)"
   ]
  },
  {
   "cell_type": "code",
   "execution_count": null,
   "metadata": {
    "collapsed": false
   },
   "outputs": [],
   "source": [
    "lexicon.create_category('people',['people'],size=20,model='fiction',write=False)"
   ]
  },
  {
   "cell_type": "code",
   "execution_count": null,
   "metadata": {
    "collapsed": false
   },
   "outputs": [],
   "source": [
    "fake_words('him',20)"
   ]
  },
  {
   "cell_type": "code",
   "execution_count": 133,
   "metadata": {
    "collapsed": false
   },
   "outputs": [
    {
     "data": {
      "text/plain": [
       "False"
      ]
     },
     "execution_count": 133,
     "metadata": {},
     "output_type": "execute_result"
    }
   ],
   "source": [
    "(2,1) in set([(1,2),(3,4)])"
   ]
  },
  {
   "cell_type": "code",
   "execution_count": 172,
   "metadata": {
    "collapsed": false
   },
   "outputs": [],
   "source": [
    "s=['it has been a tough day']\n",
    "query = tfidf_vec.transform(s)\n",
    "unnormalized = np.matrix(model.transform(query))\n",
    "normalized=unnormalized/unnormalized.sum(axis =1)"
   ]
  },
  {
   "cell_type": "code",
   "execution_count": 173,
   "metadata": {
    "collapsed": false
   },
   "outputs": [
    {
     "data": {
      "text/plain": [
       "20"
      ]
     },
     "execution_count": 173,
     "metadata": {},
     "output_type": "execute_result"
    }
   ],
   "source": [
    "np.size(unnormalized)"
   ]
  },
  {
   "cell_type": "code",
   "execution_count": 174,
   "metadata": {
    "collapsed": false
   },
   "outputs": [
    {
     "data": {
      "text/plain": [
       "1"
      ]
     },
     "execution_count": 174,
     "metadata": {},
     "output_type": "execute_result"
    }
   ],
   "source": [
    "len(unnormalized)"
   ]
  },
  {
   "cell_type": "code",
   "execution_count": 175,
   "metadata": {
    "collapsed": false
   },
   "outputs": [
    {
     "data": {
      "text/plain": [
       "436200"
      ]
     },
     "execution_count": 175,
     "metadata": {},
     "output_type": "execute_result"
    }
   ],
   "source": [
    "np.size(res)"
   ]
  },
  {
   "cell_type": "code",
   "execution_count": 170,
   "metadata": {
    "collapsed": false
   },
   "outputs": [
    {
     "data": {
      "text/plain": [
       "23"
      ]
     },
     "execution_count": 170,
     "metadata": {},
     "output_type": "execute_result"
    }
   ],
   "source": [
    "len(unnormalized)"
   ]
  },
  {
   "cell_type": "code",
   "execution_count": 171,
   "metadata": {
    "collapsed": false
   },
   "outputs": [
    {
     "data": {
      "text/plain": [
       "23"
      ]
     },
     "execution_count": 171,
     "metadata": {},
     "output_type": "execute_result"
    }
   ],
   "source": [
    "len(s)"
   ]
  },
  {
   "cell_type": "code",
   "execution_count": null,
   "metadata": {
    "collapsed": true
   },
   "outputs": [],
   "source": []
  }
 ],
 "metadata": {
  "anaconda-cloud": {},
  "kernelspec": {
   "display_name": "Python [default]",
   "language": "python",
   "name": "python2"
  },
  "language_info": {
   "codemirror_mode": {
    "name": "ipython",
    "version": 2
   },
   "file_extension": ".py",
   "mimetype": "text/x-python",
   "name": "python",
   "nbconvert_exporter": "python",
   "pygments_lexer": "ipython2",
   "version": "2.7.12"
  }
 },
 "nbformat": 4,
 "nbformat_minor": 0
}
